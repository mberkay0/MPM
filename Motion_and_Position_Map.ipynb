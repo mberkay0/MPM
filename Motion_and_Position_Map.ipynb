{
  "nbformat": 4,
  "nbformat_minor": 0,
  "metadata": {
    "colab": {
      "provenance": []
    },
    "kernelspec": {
      "name": "python3",
      "display_name": "Python 3"
    },
    "language_info": {
      "name": "python"
    },
    "accelerator": "GPU"
  },
  "cells": [
    {
      "cell_type": "markdown",
      "metadata": {
        "id": "ekiOCSkuvT3C"
      },
      "source": [
        "## Mount Google Drive"
      ]
    },
    {
      "cell_type": "code",
      "metadata": {
        "id": "EF9vTSkWvXn1",
        "colab": {
          "base_uri": "https://localhost:8080/"
        },
        "outputId": "54ffdf71-72cb-416e-d8e2-bee2f203a3d2"
      },
      "source": [
        "from google.colab import drive\n",
        "drive.mount('/content/gdrive', force_remount=True)\n",
        "\n",
        "import warnings\n",
        "warnings.filterwarnings(\"ignore\")"
      ],
      "execution_count": null,
      "outputs": [
        {
          "output_type": "stream",
          "name": "stdout",
          "text": [
            "Mounted at /content/gdrive\n"
          ]
        }
      ]
    },
    {
      "cell_type": "markdown",
      "metadata": {
        "id": "v0_15iRMq_VN"
      },
      "source": [
        "## Unzip Data"
      ]
    },
    {
      "cell_type": "markdown",
      "metadata": {
        "id": "PA478X0gSFvr"
      },
      "source": [
        "[Data-link](https://osf.io/ysaq2/)"
      ]
    },
    {
      "cell_type": "code",
      "metadata": {
        "id": "M1nqk36yrCQ0"
      },
      "source": [
        "import os\n",
        "os.makedirs('/content/data/train_imgs/sequence090318-C2C12P7_F0017')\n",
        "%%capture \n",
        "#Simply adding &> /dev/null to the tail of any command will silence its output outside of any errors that may arise.\n",
        "!unzip '/content/gdrive/MyDrive/Datas/Cell_Motility/C2C12_myoblast_cells/090318-C2C12P7_F0017.zip' -d '/content/data/train_imgs/sequence090318-C2C12P7_F0017'"
      ],
      "execution_count": null,
      "outputs": []
    },
    {
      "cell_type": "markdown",
      "metadata": {
        "id": "Kwv-FiLVrkRH"
      },
      "source": [
        "MPM data extraction"
      ]
    },
    {
      "cell_type": "code",
      "metadata": {
        "id": "iY3roYKlq7bg"
      },
      "source": [
        "%%capture \n",
        "!unzip '/content/gdrive/MyDrive/Datas/Cell_Motility/C2C12_myoblast_cells/data/data.zip' -d '/content/gdrive/MyDrive/Datas/Cell_Motility/C2C12_myoblast_cells/data'"
      ],
      "execution_count": null,
      "outputs": []
    },
    {
      "cell_type": "markdown",
      "metadata": {
        "id": "jBDZgBcLhShs"
      },
      "source": [
        "## MPM Ground Truth Extraction"
      ]
    },
    {
      "cell_type": "markdown",
      "metadata": {
        "id": "EeoIu83WZWcD"
      },
      "source": [
        "$   \n",
        "    author = Hayashida, Junya and Nishimura, Kazuya and Bise, Ryoma\n",
        "    title = MPM: Joint Representation of Motion and Position Map for Cell Tracking,\n",
        "    booktitle = The IEEE Conference on Computer Vision and Pattern Recognition (CVPR),\n",
        "    month = June,\n",
        "    year = 2020\n",
        "}$\n",
        "\n",
        "[Paper](https://deepai.org/publication/mpm-joint-representation-of-motion-and-position-map-for-cell-tracking)"
      ]
    },
    {
      "cell_type": "markdown",
      "metadata": {
        "id": "_kKYq59E8f1K"
      },
      "source": [
        "<h3>MPM: Joint Representation of Motion and Position Map for Cell Tracking</h3>\n",
        "<div>\n",
        "<img src=\"https://images.deepai.org/converted-papers/2002.10749/x1.png\" width=\"630\"/><div>\n",
        "</div></div>\n"
      ]
    },
    {
      "cell_type": "markdown",
      "metadata": {
        "id": "Ixl0uSbB1Qx7"
      },
      "source": [
        "\n",
        "<div>\n",
        "<img src=\"https://images.deepai.org/converted-papers/2002.10749/x4.png\" width=\"330\"/>\n",
        "<div></div>\n",
        "</div>\n",
        "\n",
        "<div>\n",
        "<img src=\"https://images.deepai.org/converted-papers/2002.10749/x5.png\" width=\"530\"/>\n",
        "<div></div>\n",
        "</div>\n"
      ]
    },
    {
      "cell_type": "markdown",
      "metadata": {
        "id": "asK1hhvSUq81"
      },
      "source": [
        "**Requirements**\n",
        "\n",
        "*   Python version==3.7.12\n",
        "*   hydra-core version==1.0.5\n",
        "*   pytorch version==1.4.0\n",
        "\n",
        "\n"
      ]
    },
    {
      "cell_type": "code",
      "metadata": {
        "id": "HM6WJZ8UUGOx"
      },
      "source": [
        "%%capture\n",
        "!pip install hydra-core==1.0.5"
      ],
      "execution_count": null,
      "outputs": []
    },
    {
      "cell_type": "code",
      "metadata": {
        "id": "lSi3d1nrktso"
      },
      "source": [
        "%%capture\n",
        "!pip install torch==1.4.0"
      ],
      "execution_count": null,
      "outputs": []
    },
    {
      "cell_type": "code",
      "metadata": {
        "id": "RHPWuxifhOEW",
        "colab": {
          "base_uri": "https://localhost:8080/"
        },
        "outputId": "72d66544-47dd-4818-bb81-c1e8ab9cc28d"
      },
      "source": [
        "!python /content/gdrive/MyDrive/Codes/Python/MOT/MPM/mpm_generator.py"
      ],
      "execution_count": null,
      "outputs": [
        {
          "output_type": "stream",
          "name": "stdout",
          "text": [
            "/usr/local/lib/python3.7/dist-packages/hydra/core/utils.py:208: UserWarning: \n",
            "Using config_path to specify the config name is deprecated, specify the config name via config_name\n",
            "See https://hydra.cc/docs/next/upgrades/0.11_to_1.0/config_path_changes\n",
            "  warnings.warn(category=UserWarning, message=msg)\n",
            "interval 1\n",
            "interval1---frame0---id105: 100% 105/105 [00:08<00:00, 12.97it/s]\n",
            "interval1---frame1---id105: 100% 105/105 [00:08<00:00, 12.76it/s]\n",
            "interval1---frame2---id105: 100% 105/105 [00:08<00:00, 12.27it/s]\n",
            "interval1---frame3---id105: 100% 105/105 [00:08<00:00, 12.76it/s]\n",
            "interval1---frame4---id105: 100% 105/105 [00:08<00:00, 12.89it/s]\n",
            "interval1---frame5---id105: 100% 105/105 [00:07<00:00, 13.28it/s]\n",
            "interval1---frame6---id105: 100% 105/105 [00:07<00:00, 13.34it/s]\n",
            "interval1---frame7---id105: 100% 105/105 [00:07<00:00, 13.31it/s]\n",
            "interval1---frame8---id105: 100% 105/105 [00:08<00:00, 13.11it/s]\n",
            "interval1---frame9---id105: 100% 105/105 [00:07<00:00, 13.31it/s]\n",
            "interval1---frame10---id105: 100% 105/105 [00:07<00:00, 13.31it/s]\n",
            "interval1---frame11---id105: 100% 105/105 [00:07<00:00, 13.64it/s]\n",
            "interval1---frame12---id105: 100% 105/105 [00:07<00:00, 13.42it/s]\n",
            "interval1---frame13---id105: 100% 105/105 [00:07<00:00, 13.40it/s]\n",
            "interval1---frame14---id105: 100% 105/105 [00:07<00:00, 13.13it/s]\n",
            "interval1---frame15---id105: 100% 105/105 [00:07<00:00, 13.82it/s]\n",
            "interval1---frame16---id105: 100% 105/105 [00:07<00:00, 13.53it/s]\n",
            "interval1---frame17---id105: 100% 105/105 [00:07<00:00, 13.64it/s]\n",
            "interval1---frame18---id105: 100% 105/105 [00:07<00:00, 13.78it/s]\n",
            "interval1---frame19---id105: 100% 105/105 [00:07<00:00, 14.02it/s]\n",
            "interval1---frame20---id105: 100% 105/105 [00:07<00:00, 13.55it/s]\n",
            "interval1---frame21---id105: 100% 105/105 [00:07<00:00, 13.43it/s]\n",
            "interval1---frame22---id105: 100% 105/105 [00:08<00:00, 13.10it/s]\n",
            "interval1---frame23---id105: 100% 105/105 [00:07<00:00, 13.27it/s]\n",
            "interval1---frame24---id105: 100% 105/105 [00:07<00:00, 13.46it/s]\n",
            "interval1---frame25---id105: 100% 105/105 [00:07<00:00, 13.29it/s]\n",
            "interval1---frame26---id105: 100% 105/105 [00:08<00:00, 12.88it/s]\n",
            "interval1---frame27---id105: 100% 105/105 [00:08<00:00, 13.09it/s]\n",
            "interval1---frame28---id105: 100% 105/105 [00:07<00:00, 13.25it/s]\n",
            "interval1---frame29---id105: 100% 105/105 [00:07<00:00, 13.48it/s]\n",
            "interval1---frame30---id105: 100% 105/105 [00:07<00:00, 13.22it/s]\n",
            "interval1---frame31---id105: 100% 105/105 [00:07<00:00, 13.49it/s]\n",
            "interval1---frame32---id105: 100% 105/105 [00:08<00:00, 12.91it/s]\n",
            "interval1---frame33---id105: 100% 105/105 [00:08<00:00, 13.03it/s]\n",
            "interval1---frame34---id105: 100% 105/105 [00:08<00:00, 12.70it/s]\n",
            "interval1---frame35---id105:  99% 104/105 [00:07<00:00, 13.00it/s]interval 3\n",
            "interval1---frame35---id105: 100% 105/105 [00:08<00:00, 13.01it/s]\n",
            "interval3---frame0---id105: 100% 105/105 [00:07<00:00, 13.15it/s]\n",
            "interval3---frame1---id105: 100% 105/105 [00:08<00:00, 12.86it/s]\n",
            "interval3---frame2---id105: 100% 105/105 [00:08<00:00, 13.00it/s]\n",
            "interval3---frame3---id105: 100% 105/105 [00:07<00:00, 13.40it/s]\n",
            "interval3---frame4---id105: 100% 105/105 [00:07<00:00, 13.21it/s]\n",
            "interval3---frame5---id105: 100% 105/105 [00:07<00:00, 13.67it/s]\n",
            "interval3---frame6---id105: 100% 105/105 [00:07<00:00, 13.52it/s]\n",
            "interval3---frame7---id105: 100% 105/105 [00:07<00:00, 13.35it/s]\n",
            "interval3---frame8---id105: 100% 105/105 [00:07<00:00, 13.73it/s]\n",
            "interval3---frame9---id105: 100% 105/105 [00:07<00:00, 13.35it/s]\n",
            "interval3---frame10---id105: 100% 105/105 [00:07<00:00, 13.68it/s]\n",
            "interval3---frame11---id105: 100% 105/105 [00:07<00:00, 13.36it/s]\n",
            "interval3---frame12---id105: 100% 105/105 [00:07<00:00, 13.68it/s]\n",
            "interval3---frame13---id105: 100% 105/105 [00:07<00:00, 13.89it/s]\n",
            "interval3---frame14---id105: 100% 105/105 [00:07<00:00, 13.16it/s]\n",
            "interval3---frame15---id105: 100% 105/105 [00:07<00:00, 13.85it/s]\n",
            "interval3---frame16---id105: 100% 105/105 [00:07<00:00, 14.09it/s]\n",
            "interval3---frame17---id105: 100% 105/105 [00:07<00:00, 14.26it/s]\n",
            "interval3---frame18---id105: 100% 105/105 [00:07<00:00, 13.80it/s]\n",
            "interval3---frame19---id105: 100% 105/105 [00:07<00:00, 13.76it/s]\n",
            "interval3---frame20---id94:  89% 93/105 [00:07<00:00, 19.23it/s]Error: no parent\n",
            "[ 23  94  74 586  93]\n",
            "interval3---frame20---id105: 100% 105/105 [00:07<00:00, 13.81it/s]\n",
            "interval3---frame21---id105: 100% 105/105 [00:07<00:00, 13.62it/s]\n",
            "interval3---frame22---id105: 100% 105/105 [00:07<00:00, 13.61it/s]\n",
            "interval3---frame23---id105: 100% 105/105 [00:07<00:00, 13.43it/s]\n",
            "interval3---frame24---id105: 100% 105/105 [00:07<00:00, 13.82it/s]\n",
            "interval3---frame25---id105: 100% 105/105 [00:07<00:00, 13.73it/s]\n",
            "interval3---frame26---id105: 100% 105/105 [00:07<00:00, 13.58it/s]\n",
            "interval3---frame27---id105: 100% 105/105 [00:08<00:00, 12.91it/s]\n",
            "interval3---frame28---id105: 100% 105/105 [00:08<00:00, 13.07it/s]\n",
            "interval3---frame29---id105: 100% 105/105 [00:07<00:00, 13.55it/s]\n",
            "interval3---frame30---id105: 100% 105/105 [00:07<00:00, 13.42it/s]\n",
            "interval3---frame31---id105: 100% 105/105 [00:07<00:00, 13.61it/s]\n",
            "interval3---frame32---id105: 100% 105/105 [00:07<00:00, 13.32it/s]\n",
            "interval3---frame33---id105:  99% 104/105 [00:07<00:00, 15.56it/s]interval 5\n",
            "interval3---frame33---id105: 100% 105/105 [00:07<00:00, 13.46it/s]\n",
            "interval5---frame0---id105: 100% 105/105 [00:07<00:00, 13.52it/s]\n",
            "interval5---frame1---id105: 100% 105/105 [00:07<00:00, 13.39it/s]\n",
            "interval5---frame2---id105: 100% 105/105 [00:07<00:00, 13.41it/s]\n",
            "interval5---frame3---id105: 100% 105/105 [00:07<00:00, 13.37it/s]\n",
            "interval5---frame4---id105: 100% 105/105 [00:07<00:00, 13.32it/s]\n",
            "interval5---frame5---id105: 100% 105/105 [00:07<00:00, 13.25it/s]\n",
            "interval5---frame6---id105: 100% 105/105 [00:07<00:00, 13.76it/s]\n",
            "interval5---frame7---id105: 100% 105/105 [00:07<00:00, 13.61it/s]\n",
            "interval5---frame8---id105: 100% 105/105 [00:07<00:00, 13.78it/s]\n",
            "interval5---frame9---id105: 100% 105/105 [00:07<00:00, 13.46it/s]\n",
            "interval5---frame10---id105: 100% 105/105 [00:07<00:00, 14.00it/s]\n",
            "interval5---frame11---id105: 100% 105/105 [00:07<00:00, 14.23it/s]\n",
            "interval5---frame12---id105: 100% 105/105 [00:07<00:00, 13.98it/s]\n",
            "interval5---frame13---id105: 100% 105/105 [00:07<00:00, 14.16it/s]\n",
            "interval5---frame14---id105: 100% 105/105 [00:07<00:00, 14.07it/s]\n",
            "interval5---frame15---id105: 100% 105/105 [00:07<00:00, 14.13it/s]\n",
            "interval5---frame16---id105: 100% 105/105 [00:07<00:00, 13.99it/s]\n",
            "interval5---frame17---id105: 100% 105/105 [00:07<00:00, 14.26it/s]\n",
            "interval5---frame18---id94:  89% 93/105 [00:07<00:00, 24.60it/s]Error: no parent\n",
            "[ 23  94  74 586  93]\n",
            "interval5---frame18---id105: 100% 105/105 [00:07<00:00, 13.73it/s]\n",
            "interval5---frame19---id105: 100% 105/105 [00:07<00:00, 13.74it/s]\n",
            "interval5---frame20---id105: 100% 105/105 [00:07<00:00, 13.95it/s]\n",
            "interval5---frame21---id105: 100% 105/105 [00:07<00:00, 13.76it/s]\n",
            "interval5---frame22---id105: 100% 105/105 [00:07<00:00, 13.70it/s]\n",
            "interval5---frame23---id105: 100% 105/105 [00:07<00:00, 13.99it/s]\n",
            "interval5---frame24---id105: 100% 105/105 [00:07<00:00, 14.01it/s]\n",
            "interval5---frame25---id105: 100% 105/105 [00:07<00:00, 13.98it/s]\n",
            "interval5---frame26---id105: 100% 105/105 [00:07<00:00, 13.24it/s]\n",
            "interval5---frame27---id105: 100% 105/105 [00:08<00:00, 13.08it/s]\n",
            "interval5---frame28---id105: 100% 105/105 [00:07<00:00, 13.22it/s]\n",
            "interval5---frame29---id105: 100% 105/105 [00:07<00:00, 13.80it/s]\n",
            "interval5---frame30---id105: 100% 105/105 [00:07<00:00, 13.29it/s]\n",
            "interval5---frame31---id105:  99% 104/105 [00:07<00:00, 22.37it/s]finished\n",
            "interval5---frame31---id105: 100% 105/105 [00:07<00:00, 14.04it/s]\n"
          ]
        }
      ]
    },
    {
      "cell_type": "code",
      "metadata": {
        "id": "OXLdNE3eQdcN"
      },
      "source": [
        "%%capture\n",
        "!zip -r /content/data.zip /content/data/"
      ],
      "execution_count": null,
      "outputs": []
    },
    {
      "cell_type": "markdown",
      "metadata": {
        "id": "q57EOLFjsFBg"
      },
      "source": [
        "## Train the MPM Model"
      ]
    },
    {
      "cell_type": "code",
      "metadata": {
        "colab": {
          "base_uri": "https://localhost:8080/"
        },
        "id": "matm46MhTygp",
        "outputId": "d580d960-2b39-4a6c-fdfe-39aa32a83c7a"
      },
      "source": [
        "#HYDRA_FULL_ERROR=1 \n",
        "!python /content/gdrive/MyDrive/Codes/Python/MOT/MPM/mpm_train.py"
      ],
      "execution_count": null,
      "outputs": [
        {
          "output_type": "stream",
          "name": "stdout",
          "text": [
            "/usr/local/lib/python3.7/dist-packages/hydra/core/utils.py:208: UserWarning: \n",
            "Using config_path to specify the config name is deprecated, specify the config name via config_name\n",
            "See https://hydra.cc/docs/next/upgrades/0.11_to_1.0/config_path_changes\n",
            "  warnings.warn(category=UserWarning, message=msg)\n",
            "[2021-11-16 21:22:11,149][root][INFO] - Using device cuda\n",
            "[2021-11-16 21:22:11,303][root][INFO] - Network:\n",
            "\t2 input channels\n",
            "\t3 output channels\n",
            "\tBilinear upscaling\n",
            "[2021-11-16 21:22:12,944][root][INFO] - Creating dataset with 36 examples\n",
            "[2021-11-16 21:22:12,946][root][INFO] - Creating dataset with 0 examples\n",
            "[2021-11-16 21:22:15,698][root][INFO] - Starting training:\n",
            "        Epochs:          100\n",
            "        Batch size:      1\n",
            "        Learning rate:   0.0001\n",
            "        Training size:   36\n",
            "        Validation size: 0\n",
            "        Checkpoints:     True\n",
            "        Device:          cuda\n",
            "        Intervals        [1, 3, 5]\n",
            "        Optimizer        Adam\n",
            "        Criterion        RMSE_Q_NormLoss\n",
            "    \n",
            "Epoch 1/100: 100% 36/36 [00:10<00:00,  5.25img/s, loss (batch)=0.019]\n",
            "Validation round: 0batch [00:00, ?batch/s]\u001b[A\n",
            "                                          \u001b[A[2021-11-16 21:22:30,326][root][INFO] - Validation loss: 1\n",
            "Epoch 1/100: 100% 36/36 [00:14<00:00,  2.44img/s, loss (batch)=0.019]\n",
            "[2021-11-16 21:22:30,435][root][INFO] - Created checkpoint directory\n",
            "[2021-11-16 21:22:30,525][root][INFO] - Checkpoint 1 saved !\n",
            "Epoch 2/100: 100% 36/36 [00:08<00:00,  5.24img/s, loss (batch)=0.016]\n",
            "Validation round: 0batch [00:00, ?batch/s]\u001b[A\n",
            "                                          \u001b[A[2021-11-16 21:22:42,710][root][INFO] - Validation loss: 1\n",
            "Epoch 2/100: 100% 36/36 [00:12<00:00,  2.93img/s, loss (batch)=0.016]\n",
            "[2021-11-16 21:22:42,907][root][INFO] - Checkpoint 2 saved !\n",
            "Epoch 3/100: 100% 36/36 [00:07<00:00,  5.36img/s, loss (batch)=0.0135]\n",
            "Validation round: 0batch [00:00, ?batch/s]\u001b[A\n",
            "                                          \u001b[A[2021-11-16 21:22:54,981][root][INFO] - Validation loss: 1\n",
            "Epoch 3/100: 100% 36/36 [00:12<00:00,  2.95img/s, loss (batch)=0.0135]\n",
            "[2021-11-16 21:22:55,182][root][INFO] - Checkpoint 3 saved !\n",
            "Epoch 4/100: 100% 36/36 [00:08<00:00,  5.32img/s, loss (batch)=0.0134]\n",
            "Validation round: 0batch [00:00, ?batch/s]\u001b[A\n",
            "                                          \u001b[A[2021-11-16 21:23:07,466][root][INFO] - Validation loss: 1\n",
            "Epoch 4/100: 100% 36/36 [00:12<00:00,  2.90img/s, loss (batch)=0.0134]\n",
            "[2021-11-16 21:23:07,681][root][INFO] - Checkpoint 4 saved !\n",
            "Epoch 5/100: 100% 36/36 [00:07<00:00,  5.30img/s, loss (batch)=0.0145]\n",
            "Validation round: 0batch [00:00, ?batch/s]\u001b[A\n",
            "                                          \u001b[A[2021-11-16 21:23:19,698][root][INFO] - Validation loss: 1\n",
            "Epoch 5/100: 100% 36/36 [00:12<00:00,  2.97img/s, loss (batch)=0.0145]\n",
            "[2021-11-16 21:23:19,909][root][INFO] - Checkpoint 5 saved !\n",
            "Epoch 6/100: 100% 36/36 [00:07<00:00,  5.30img/s, loss (batch)=0.0112]\n",
            "Validation round: 0batch [00:00, ?batch/s]\u001b[A\n",
            "                                          \u001b[A[2021-11-16 21:23:31,987][root][INFO] - Validation loss: 1\n",
            "Epoch 6/100: 100% 36/36 [00:12<00:00,  2.95img/s, loss (batch)=0.0112]\n",
            "[2021-11-16 21:23:32,191][root][INFO] - Checkpoint 6 saved !\n",
            "Epoch 7/100: 100% 36/36 [00:07<00:00,  5.31img/s, loss (batch)=0.0132]\n",
            "Validation round: 0batch [00:00, ?batch/s]\u001b[A\n",
            "                                          \u001b[A[2021-11-16 21:23:44,112][root][INFO] - Validation loss: 1\n",
            "Epoch 7/100: 100% 36/36 [00:12<00:00,  2.99img/s, loss (batch)=0.0132]\n",
            "[2021-11-16 21:23:44,315][root][INFO] - Checkpoint 7 saved !\n",
            "Epoch 8/100: 100% 36/36 [00:08<00:00,  5.23img/s, loss (batch)=0.0117]\n",
            "Validation round: 0batch [00:00, ?batch/s]\u001b[A\n",
            "                                          \u001b[A[2021-11-16 21:23:56,449][root][INFO] - Validation loss: 1\n",
            "Epoch 8/100: 100% 36/36 [00:12<00:00,  2.94img/s, loss (batch)=0.0117]\n",
            "[2021-11-16 21:23:56,652][root][INFO] - Checkpoint 8 saved !\n",
            "Epoch 9/100: 100% 36/36 [00:07<00:00,  5.29img/s, loss (batch)=0.0121]\n",
            "Validation round: 0batch [00:00, ?batch/s]\u001b[A\n",
            "                                          \u001b[A[2021-11-16 21:24:08,835][root][INFO] - Validation loss: 1\n",
            "Epoch 9/100: 100% 36/36 [00:12<00:00,  2.93img/s, loss (batch)=0.0121]\n",
            "[2021-11-16 21:24:09,044][root][INFO] - Checkpoint 9 saved !\n",
            "Epoch 10/100: 100% 36/36 [00:07<00:00,  5.26img/s, loss (batch)=0.0116]\n",
            "Validation round: 0batch [00:00, ?batch/s]\u001b[A\n",
            "                                          \u001b[A[2021-11-16 21:24:21,080][root][INFO] - Validation loss: 1\n",
            "Epoch 10/100: 100% 36/36 [00:12<00:00,  2.96img/s, loss (batch)=0.0116]\n",
            "[2021-11-16 21:24:21,290][root][INFO] - Checkpoint 10 saved !\n",
            "Epoch 11/100: 100% 36/36 [00:07<00:00,  5.28img/s, loss (batch)=0.0128]\n",
            "Validation round: 0batch [00:00, ?batch/s]\u001b[A\n",
            "                                          \u001b[A[2021-11-16 21:24:33,226][root][INFO] - Validation loss: 1\n",
            "Epoch 11/100: 100% 36/36 [00:12<00:00,  2.98img/s, loss (batch)=0.0128]\n",
            "[2021-11-16 21:24:33,451][root][INFO] - Checkpoint 11 saved !\n",
            "Epoch 12/100: 100% 36/36 [00:07<00:00,  5.29img/s, loss (batch)=0.0123]\n",
            "Validation round: 0batch [00:00, ?batch/s]\u001b[A\n",
            "                                          \u001b[A[2021-11-16 21:24:45,602][root][INFO] - Validation loss: 1\n",
            "Epoch 12/100: 100% 36/36 [00:12<00:00,  2.93img/s, loss (batch)=0.0123]\n",
            "[2021-11-16 21:24:45,818][root][INFO] - Checkpoint 12 saved !\n",
            "Epoch 13/100: 100% 36/36 [00:07<00:00,  5.31img/s, loss (batch)=0.0132]\n",
            "Validation round: 0batch [00:00, ?batch/s]\u001b[A\n",
            "                                          \u001b[A[2021-11-16 21:24:57,889][root][INFO] - Validation loss: 1\n",
            "Epoch 13/100: 100% 36/36 [00:12<00:00,  2.95img/s, loss (batch)=0.0132]\n",
            "[2021-11-16 21:24:58,104][root][INFO] - Checkpoint 13 saved !\n",
            "Epoch 14/100: 100% 36/36 [00:07<00:00,  5.28img/s, loss (batch)=0.0132]\n",
            "Validation round: 0batch [00:00, ?batch/s]\u001b[A\n",
            "                                          \u001b[A[2021-11-16 21:25:10,181][root][INFO] - Validation loss: 1\n",
            "Epoch 14/100: 100% 36/36 [00:12<00:00,  2.95img/s, loss (batch)=0.0132]\n",
            "[2021-11-16 21:25:10,395][root][INFO] - Checkpoint 14 saved !\n",
            "Epoch 15/100: 100% 36/36 [00:07<00:00,  5.28img/s, loss (batch)=0.0115]\n",
            "Validation round: 0batch [00:00, ?batch/s]\u001b[A\n",
            "                                          \u001b[A[2021-11-16 21:25:22,502][root][INFO] - Validation loss: 1\n",
            "Epoch 15/100: 100% 36/36 [00:12<00:00,  2.94img/s, loss (batch)=0.0115]\n",
            "[2021-11-16 21:25:22,716][root][INFO] - Checkpoint 15 saved !\n",
            "Epoch 16/100: 100% 36/36 [00:08<00:00,  5.32img/s, loss (batch)=0.0142]\n",
            "Validation round: 0batch [00:00, ?batch/s]\u001b[A\n",
            "                                          \u001b[A[2021-11-16 21:25:34,912][root][INFO] - Validation loss: 1\n",
            "Epoch 16/100: 100% 36/36 [00:12<00:00,  2.93img/s, loss (batch)=0.0142]\n",
            "[2021-11-16 21:25:35,114][root][INFO] - Checkpoint 16 saved !\n",
            "Epoch 17/100: 100% 36/36 [00:07<00:00,  5.29img/s, loss (batch)=0.0113]\n",
            "Validation round: 0batch [00:00, ?batch/s]\u001b[A\n",
            "                                          \u001b[A[2021-11-16 21:25:47,147][root][INFO] - Validation loss: 1\n",
            "Epoch 17/100: 100% 36/36 [00:12<00:00,  2.96img/s, loss (batch)=0.0113]\n",
            "[2021-11-16 21:25:47,357][root][INFO] - Checkpoint 17 saved !\n",
            "Epoch 18/100: 100% 36/36 [00:07<00:00,  5.32img/s, loss (batch)=0.0126]\n",
            "Validation round: 0batch [00:00, ?batch/s]\u001b[A\n",
            "                                          \u001b[A[2021-11-16 21:25:59,456][root][INFO] - Validation loss: 1\n",
            "Epoch 18/100: 100% 36/36 [00:12<00:00,  2.95img/s, loss (batch)=0.0126]\n",
            "[2021-11-16 21:25:59,663][root][INFO] - Checkpoint 18 saved !\n",
            "Epoch 19/100: 100% 36/36 [00:07<00:00,  5.29img/s, loss (batch)=0.0125]\n",
            "Validation round: 0batch [00:00, ?batch/s]\u001b[A\n",
            "                                          \u001b[A[2021-11-16 21:26:11,788][root][INFO] - Validation loss: 1\n",
            "Epoch 19/100: 100% 36/36 [00:12<00:00,  2.94img/s, loss (batch)=0.0125]\n",
            "[2021-11-16 21:26:11,997][root][INFO] - Checkpoint 19 saved !\n",
            "Epoch 20/100: 100% 36/36 [00:08<00:00,  5.29img/s, loss (batch)=0.0134]\n",
            "Validation round: 0batch [00:00, ?batch/s]\u001b[A\n",
            "                                          \u001b[A[2021-11-16 21:26:24,208][root][INFO] - Validation loss: 1\n",
            "Epoch 20/100: 100% 36/36 [00:12<00:00,  2.92img/s, loss (batch)=0.0134]\n",
            "[2021-11-16 21:26:24,409][root][INFO] - Checkpoint 20 saved !\n",
            "Epoch 21/100: 100% 36/36 [00:07<00:00,  5.28img/s, loss (batch)=0.0141]\n",
            "Validation round: 0batch [00:00, ?batch/s]\u001b[A\n",
            "                                          \u001b[A[2021-11-16 21:26:36,518][root][INFO] - Validation loss: 1\n",
            "Epoch 21/100: 100% 36/36 [00:12<00:00,  2.95img/s, loss (batch)=0.0141]\n",
            "[2021-11-16 21:26:36,732][root][INFO] - Checkpoint 21 saved !\n",
            "Epoch 22/100: 100% 36/36 [00:08<00:00,  5.31img/s, loss (batch)=0.0114]\n",
            "Validation round: 0batch [00:00, ?batch/s]\u001b[A\n",
            "                                          \u001b[A[2021-11-16 21:26:48,928][root][INFO] - Validation loss: 1\n",
            "Epoch 22/100: 100% 36/36 [00:12<00:00,  2.92img/s, loss (batch)=0.0114]\n",
            "[2021-11-16 21:26:49,144][root][INFO] - Checkpoint 22 saved !\n",
            "Epoch 23/100: 100% 36/36 [00:08<00:00,  5.31img/s, loss (batch)=0.0123]\n",
            "Validation round: 0batch [00:00, ?batch/s]\u001b[A\n",
            "                                          \u001b[A[2021-11-16 21:27:01,368][root][INFO] - Validation loss: 1\n",
            "Epoch 23/100: 100% 36/36 [00:12<00:00,  2.92img/s, loss (batch)=0.0123]\n",
            "[2021-11-16 21:27:01,583][root][INFO] - Checkpoint 23 saved !\n",
            "Epoch 24/100: 100% 36/36 [00:08<00:00,  5.32img/s, loss (batch)=0.0107]\n",
            "Validation round: 0batch [00:00, ?batch/s]\u001b[A\n",
            "                                          \u001b[A[2021-11-16 21:27:13,813][root][INFO] - Validation loss: 1\n",
            "Epoch 24/100: 100% 36/36 [00:12<00:00,  2.92img/s, loss (batch)=0.0107]\n",
            "[2021-11-16 21:27:14,025][root][INFO] - Checkpoint 24 saved !\n",
            "Epoch 25/100: 100% 36/36 [00:07<00:00,  5.33img/s, loss (batch)=0.0142]\n",
            "Validation round: 0batch [00:00, ?batch/s]\u001b[A\n",
            "                                          \u001b[A[2021-11-16 21:27:26,264][root][INFO] - Validation loss: 1\n",
            "Epoch 25/100: 100% 36/36 [00:12<00:00,  2.91img/s, loss (batch)=0.0142]\n",
            "[2021-11-16 21:27:26,484][root][INFO] - Checkpoint 25 saved !\n",
            "Epoch 26/100: 100% 36/36 [00:08<00:00,  5.27img/s, loss (batch)=0.0134]\n",
            "Validation round: 0batch [00:00, ?batch/s]\u001b[A\n",
            "                                          \u001b[A[2021-11-16 21:27:38,710][root][INFO] - Validation loss: 1\n",
            "Epoch 26/100: 100% 36/36 [00:12<00:00,  2.92img/s, loss (batch)=0.0134]\n",
            "[2021-11-16 21:27:38,928][root][INFO] - Checkpoint 26 saved !\n",
            "Epoch 27/100: 100% 36/36 [00:07<00:00,  5.28img/s, loss (batch)=0.0135]\n",
            "Validation round: 0batch [00:00, ?batch/s]\u001b[A\n",
            "                                          \u001b[A[2021-11-16 21:27:51,266][root][INFO] - Validation loss: 1\n",
            "Epoch 27/100: 100% 36/36 [00:12<00:00,  2.89img/s, loss (batch)=0.0135]\n",
            "[2021-11-16 21:27:51,482][root][INFO] - Checkpoint 27 saved !\n",
            "Epoch 28/100: 100% 36/36 [00:07<00:00,  5.17img/s, loss (batch)=0.0138]\n",
            "Validation round: 0batch [00:00, ?batch/s]\u001b[A\n",
            "                                          \u001b[A[2021-11-16 21:28:03,769][root][INFO] - Validation loss: 1\n",
            "Epoch 28/100: 100% 36/36 [00:12<00:00,  2.90img/s, loss (batch)=0.0138]\n",
            "[2021-11-16 21:28:04,003][root][INFO] - Checkpoint 28 saved !\n",
            "Epoch 29/100: 100% 36/36 [00:08<00:00,  5.32img/s, loss (batch)=0.0111]\n",
            "Validation round: 0batch [00:00, ?batch/s]\u001b[A\n",
            "                                          \u001b[A[2021-11-16 21:28:16,332][root][INFO] - Validation loss: 1\n",
            "Epoch 29/100: 100% 36/36 [00:12<00:00,  2.89img/s, loss (batch)=0.0111]\n",
            "[2021-11-16 21:28:16,554][root][INFO] - Checkpoint 29 saved !\n",
            "Epoch 30/100: 100% 36/36 [00:08<00:00,  5.22img/s, loss (batch)=0.0138]\n",
            "Validation round: 0batch [00:00, ?batch/s]\u001b[A\n",
            "                                          \u001b[A[2021-11-16 21:28:28,850][root][INFO] - Validation loss: 1\n",
            "Epoch 30/100: 100% 36/36 [00:12<00:00,  2.90img/s, loss (batch)=0.0138]\n",
            "[2021-11-16 21:28:29,066][root][INFO] - Checkpoint 30 saved !\n",
            "Epoch 31/100: 100% 36/36 [00:08<00:00,  5.32img/s, loss (batch)=0.0127]\n",
            "Validation round: 0batch [00:00, ?batch/s]\u001b[A\n",
            "                                          \u001b[A[2021-11-16 21:28:41,388][root][INFO] - Validation loss: 1\n",
            "Epoch 31/100: 100% 36/36 [00:12<00:00,  2.89img/s, loss (batch)=0.0127]\n",
            "[2021-11-16 21:28:41,605][root][INFO] - Checkpoint 31 saved !\n",
            "Epoch 32/100: 100% 36/36 [00:08<00:00,  5.28img/s, loss (batch)=0.0107]\n",
            "Validation round: 0batch [00:00, ?batch/s]\u001b[A\n",
            "                                          \u001b[A[2021-11-16 21:28:53,917][root][INFO] - Validation loss: 1\n",
            "Epoch 32/100: 100% 36/36 [00:12<00:00,  2.90img/s, loss (batch)=0.0107]\n",
            "[2021-11-16 21:28:54,136][root][INFO] - Checkpoint 32 saved !\n",
            "Epoch 33/100: 100% 36/36 [00:08<00:00,  5.28img/s, loss (batch)=0.0131]\n",
            "Validation round: 0batch [00:00, ?batch/s]\u001b[A\n",
            "                                          \u001b[A[2021-11-16 21:29:06,415][root][INFO] - Validation loss: 1\n",
            "Epoch 33/100: 100% 36/36 [00:12<00:00,  2.90img/s, loss (batch)=0.0131]\n",
            "[2021-11-16 21:29:06,648][root][INFO] - Checkpoint 33 saved !\n",
            "Epoch 34/100: 100% 36/36 [00:07<00:00,  5.30img/s, loss (batch)=0.0129]\n",
            "Validation round: 0batch [00:00, ?batch/s]\u001b[A\n",
            "                                          \u001b[A[2021-11-16 21:29:18,810][root][INFO] - Validation loss: 1\n",
            "Epoch 34/100: 100% 36/36 [00:12<00:00,  2.93img/s, loss (batch)=0.0129]\n",
            "[2021-11-16 21:29:19,022][root][INFO] - Checkpoint 34 saved !\n",
            "Epoch 35/100: 100% 36/36 [00:07<00:00,  5.33img/s, loss (batch)=0.0117]\n",
            "Validation round: 0batch [00:00, ?batch/s]\u001b[A\n",
            "                                          \u001b[A[2021-11-16 21:29:31,176][root][INFO] - Validation loss: 1\n",
            "Epoch 35/100: 100% 36/36 [00:12<00:00,  2.93img/s, loss (batch)=0.0117]\n",
            "[2021-11-16 21:29:31,388][root][INFO] - Checkpoint 35 saved !\n",
            "Epoch 36/100: 100% 36/36 [00:08<00:00,  5.30img/s, loss (batch)=0.0122]\n",
            "Validation round: 0batch [00:00, ?batch/s]\u001b[A\n",
            "                                          \u001b[A[2021-11-16 21:29:43,728][root][INFO] - Validation loss: 1\n",
            "Epoch 36/100: 100% 36/36 [00:12<00:00,  2.89img/s, loss (batch)=0.0122]\n",
            "[2021-11-16 21:29:43,940][root][INFO] - Checkpoint 36 saved !\n",
            "Epoch 37/100: 100% 36/36 [00:07<00:00,  5.30img/s, loss (batch)=0.0119]\n",
            "Validation round: 0batch [00:00, ?batch/s]\u001b[A\n",
            "                                          \u001b[A[2021-11-16 21:29:56,130][root][INFO] - Validation loss: 1\n",
            "Epoch 37/100: 100% 36/36 [00:12<00:00,  2.93img/s, loss (batch)=0.0119]\n",
            "[2021-11-16 21:29:56,341][root][INFO] - Checkpoint 37 saved !\n",
            "Epoch 38/100: 100% 36/36 [00:08<00:00,  5.31img/s, loss (batch)=0.0135]\n",
            "Validation round: 0batch [00:00, ?batch/s]\u001b[A\n",
            "                                          \u001b[A[2021-11-16 21:30:08,605][root][INFO] - Validation loss: 1\n",
            "Epoch 38/100: 100% 36/36 [00:12<00:00,  2.91img/s, loss (batch)=0.0135]\n",
            "[2021-11-16 21:30:08,831][root][INFO] - Checkpoint 38 saved !\n",
            "Epoch 39/100: 100% 36/36 [00:08<00:00,  5.31img/s, loss (batch)=0.0142]\n",
            "Validation round: 0batch [00:00, ?batch/s]\u001b[A\n",
            "                                          \u001b[A[2021-11-16 21:30:21,162][root][INFO] - Validation loss: 1\n",
            "Epoch 39/100: 100% 36/36 [00:12<00:00,  2.89img/s, loss (batch)=0.0142]\n",
            "[2021-11-16 21:30:21,372][root][INFO] - Checkpoint 39 saved !\n",
            "Epoch 40/100: 100% 36/36 [00:08<00:00,  5.28img/s, loss (batch)=0.0129]\n",
            "Validation round: 0batch [00:00, ?batch/s]\u001b[A\n",
            "                                          \u001b[A[2021-11-16 21:30:33,607][root][INFO] - Validation loss: 1\n",
            "Epoch 40/100: 100% 36/36 [00:12<00:00,  2.91img/s, loss (batch)=0.0129]\n",
            "[2021-11-16 21:30:33,821][root][INFO] - Checkpoint 40 saved !\n",
            "Epoch 41/100: 100% 36/36 [00:07<00:00,  5.28img/s, loss (batch)=0.0119]\n",
            "Validation round: 0batch [00:00, ?batch/s]\u001b[A\n",
            "                                          \u001b[A[2021-11-16 21:30:45,986][root][INFO] - Validation loss: 1\n",
            "Epoch 41/100: 100% 36/36 [00:12<00:00,  2.93img/s, loss (batch)=0.0119]\n",
            "[2021-11-16 21:30:46,197][root][INFO] - Checkpoint 41 saved !\n",
            "Epoch 42/100: 100% 36/36 [00:08<00:00,  5.27img/s, loss (batch)=0.0137]\n",
            "Validation round: 0batch [00:00, ?batch/s]\u001b[A\n",
            "                                          \u001b[A[2021-11-16 21:30:58,425][root][INFO] - Validation loss: 1\n",
            "Epoch 42/100: 100% 36/36 [00:12<00:00,  2.92img/s, loss (batch)=0.0137]\n",
            "[2021-11-16 21:30:58,648][root][INFO] - Checkpoint 42 saved !\n",
            "Epoch 43/100: 100% 36/36 [00:07<00:00,  5.30img/s, loss (batch)=0.0123]\n",
            "Validation round: 0batch [00:00, ?batch/s]\u001b[A\n",
            "                                          \u001b[A[2021-11-16 21:31:10,809][root][INFO] - Validation loss: 1\n",
            "Epoch 43/100: 100% 36/36 [00:12<00:00,  2.93img/s, loss (batch)=0.0123]\n",
            "[2021-11-16 21:31:11,024][root][INFO] - Checkpoint 43 saved !\n",
            "Epoch 44/100: 100% 36/36 [00:08<00:00,  5.27img/s, loss (batch)=0.011]\n",
            "Validation round: 0batch [00:00, ?batch/s]\u001b[A\n",
            "                                          \u001b[A[2021-11-16 21:31:23,239][root][INFO] - Validation loss: 1\n",
            "Epoch 44/100: 100% 36/36 [00:12<00:00,  2.92img/s, loss (batch)=0.011]\n",
            "[2021-11-16 21:31:23,461][root][INFO] - Checkpoint 44 saved !\n",
            "Epoch 45/100: 100% 36/36 [00:08<00:00,  5.28img/s, loss (batch)=0.0108]\n",
            "Validation round: 0batch [00:00, ?batch/s]\u001b[A\n",
            "                                          \u001b[A[2021-11-16 21:31:35,670][root][INFO] - Validation loss: 1\n",
            "Epoch 45/100: 100% 36/36 [00:12<00:00,  2.92img/s, loss (batch)=0.0108]\n",
            "[2021-11-16 21:31:35,885][root][INFO] - Checkpoint 45 saved !\n",
            "Epoch 46/100: 100% 36/36 [00:07<00:00,  5.28img/s, loss (batch)=0.0103]\n",
            "Validation round: 0batch [00:00, ?batch/s]\u001b[A\n",
            "                                          \u001b[A[2021-11-16 21:31:47,955][root][INFO] - Validation loss: 1\n",
            "Epoch 46/100: 100% 36/36 [00:12<00:00,  2.95img/s, loss (batch)=0.0103]\n",
            "[2021-11-16 21:31:48,168][root][INFO] - Checkpoint 46 saved !\n",
            "Epoch 47/100: 100% 36/36 [00:08<00:00,  5.25img/s, loss (batch)=0.0134]\n",
            "Validation round: 0batch [00:00, ?batch/s]\u001b[A\n",
            "                                          \u001b[A[2021-11-16 21:32:00,439][root][INFO] - Validation loss: 1\n",
            "Epoch 47/100: 100% 36/36 [00:12<00:00,  2.90img/s, loss (batch)=0.0134]\n",
            "[2021-11-16 21:32:00,671][root][INFO] - Checkpoint 47 saved !\n",
            "Epoch 48/100: 100% 36/36 [00:08<00:00,  5.31img/s, loss (batch)=0.0109]\n",
            "Validation round: 0batch [00:00, ?batch/s]\u001b[A\n",
            "                                          \u001b[A[2021-11-16 21:32:12,928][root][INFO] - Validation loss: 1\n",
            "Epoch 48/100: 100% 36/36 [00:12<00:00,  2.91img/s, loss (batch)=0.0109]\n",
            "[2021-11-16 21:32:13,155][root][INFO] - Checkpoint 48 saved !\n",
            "Epoch 49/100: 100% 36/36 [00:08<00:00,  5.31img/s, loss (batch)=0.0117]\n",
            "Validation round: 0batch [00:00, ?batch/s]\u001b[A\n",
            "                                          \u001b[A[2021-11-16 21:32:25,430][root][INFO] - Validation loss: 1\n",
            "Epoch 49/100: 100% 36/36 [00:12<00:00,  2.90img/s, loss (batch)=0.0117]\n",
            "[2021-11-16 21:32:25,652][root][INFO] - Checkpoint 49 saved !\n",
            "Epoch 50/100: 100% 36/36 [00:08<00:00,  5.32img/s, loss (batch)=0.0123]\n",
            "Validation round: 0batch [00:00, ?batch/s]\u001b[A\n",
            "                                          \u001b[A[2021-11-16 21:32:37,897][root][INFO] - Validation loss: 1\n",
            "Epoch 50/100: 100% 36/36 [00:12<00:00,  2.91img/s, loss (batch)=0.0123]\n",
            "[2021-11-16 21:32:38,121][root][INFO] - Checkpoint 50 saved !\n",
            "Epoch 51/100: 100% 36/36 [00:07<00:00,  5.27img/s, loss (batch)=0.0121]\n",
            "Validation round: 0batch [00:00, ?batch/s]\u001b[A\n",
            "                                          \u001b[A[2021-11-16 21:32:50,318][root][INFO] - Validation loss: 1\n",
            "Epoch 51/100: 100% 36/36 [00:12<00:00,  2.92img/s, loss (batch)=0.0121]\n",
            "[2021-11-16 21:32:50,540][root][INFO] - Checkpoint 51 saved !\n",
            "Epoch 52/100: 100% 36/36 [00:08<00:00,  5.26img/s, loss (batch)=0.0106]\n",
            "Validation round: 0batch [00:00, ?batch/s]\u001b[A\n",
            "                                          \u001b[A[2021-11-16 21:33:02,919][root][INFO] - Validation loss: 1\n",
            "Epoch 52/100: 100% 36/36 [00:12<00:00,  2.88img/s, loss (batch)=0.0106]\n",
            "[2021-11-16 21:33:03,136][root][INFO] - Checkpoint 52 saved !\n",
            "Epoch 53/100: 100% 36/36 [00:08<00:00,  5.27img/s, loss (batch)=0.0117]\n",
            "Validation round: 0batch [00:00, ?batch/s]\u001b[A\n",
            "                                          \u001b[A[2021-11-16 21:33:15,510][root][INFO] - Validation loss: 1\n",
            "Epoch 53/100: 100% 36/36 [00:12<00:00,  2.88img/s, loss (batch)=0.0117]\n",
            "[2021-11-16 21:33:15,741][root][INFO] - Checkpoint 53 saved !\n",
            "Epoch 54/100: 100% 36/36 [00:07<00:00,  5.28img/s, loss (batch)=0.0128]\n",
            "Validation round: 0batch [00:00, ?batch/s]\u001b[A\n",
            "                                          \u001b[A[2021-11-16 21:33:28,013][root][INFO] - Validation loss: 1\n",
            "Epoch 54/100: 100% 36/36 [00:12<00:00,  2.90img/s, loss (batch)=0.0128]\n",
            "[2021-11-16 21:33:28,228][root][INFO] - Checkpoint 54 saved !\n",
            "Epoch 55/100: 100% 36/36 [00:08<00:00,  5.32img/s, loss (batch)=0.0102]\n",
            "Validation round: 0batch [00:00, ?batch/s]\u001b[A\n",
            "                                          \u001b[A[2021-11-16 21:33:40,505][root][INFO] - Validation loss: 1\n",
            "Epoch 55/100: 100% 36/36 [00:12<00:00,  2.90img/s, loss (batch)=0.0102]\n",
            "[2021-11-16 21:33:40,724][root][INFO] - Checkpoint 55 saved !\n",
            "Epoch 56/100: 100% 36/36 [00:08<00:00,  5.31img/s, loss (batch)=0.0119]\n",
            "Validation round: 0batch [00:00, ?batch/s]\u001b[A\n",
            "                                          \u001b[A[2021-11-16 21:33:53,093][root][INFO] - Validation loss: 1\n",
            "Epoch 56/100: 100% 36/36 [00:12<00:00,  2.88img/s, loss (batch)=0.0119]\n",
            "[2021-11-16 21:33:53,311][root][INFO] - Checkpoint 56 saved !\n",
            "Epoch 57/100: 100% 36/36 [00:08<00:00,  5.31img/s, loss (batch)=0.0113]\n",
            "Validation round: 0batch [00:00, ?batch/s]\u001b[A\n",
            "                                          \u001b[A[2021-11-16 21:34:05,593][root][INFO] - Validation loss: 1\n",
            "Epoch 57/100: 100% 36/36 [00:12<00:00,  2.90img/s, loss (batch)=0.0113]\n",
            "[2021-11-16 21:34:05,818][root][INFO] - Checkpoint 57 saved !\n",
            "Epoch 58/100: 100% 36/36 [00:08<00:00,  5.30img/s, loss (batch)=0.011]\n",
            "Validation round: 0batch [00:00, ?batch/s]\u001b[A\n",
            "                                          \u001b[A[2021-11-16 21:34:18,079][root][INFO] - Validation loss: 1\n",
            "Epoch 58/100: 100% 36/36 [00:12<00:00,  2.91img/s, loss (batch)=0.011]\n",
            "[2021-11-16 21:34:18,295][root][INFO] - Checkpoint 58 saved !\n",
            "Epoch 59/100: 100% 36/36 [00:08<00:00,  5.29img/s, loss (batch)=0.0119]\n",
            "Validation round: 0batch [00:00, ?batch/s]\u001b[A\n",
            "                                          \u001b[A[2021-11-16 21:34:30,601][root][INFO] - Validation loss: 1\n",
            "Epoch 59/100: 100% 36/36 [00:12<00:00,  2.90img/s, loss (batch)=0.0119]\n",
            "[2021-11-16 21:34:30,816][root][INFO] - Checkpoint 59 saved !\n",
            "Epoch 60/100: 100% 36/36 [00:08<00:00,  5.33img/s, loss (batch)=0.0111]\n",
            "Validation round: 0batch [00:00, ?batch/s]\u001b[A\n",
            "                                          \u001b[A[2021-11-16 21:34:43,155][root][INFO] - Validation loss: 1\n",
            "Epoch 60/100: 100% 36/36 [00:12<00:00,  2.89img/s, loss (batch)=0.0111]\n",
            "[2021-11-16 21:34:43,376][root][INFO] - Checkpoint 60 saved !\n",
            "Epoch 61/100: 100% 36/36 [00:07<00:00,  5.32img/s, loss (batch)=0.0102]\n",
            "Validation round: 0batch [00:00, ?batch/s]\u001b[A\n",
            "                                          \u001b[A[2021-11-16 21:34:55,560][root][INFO] - Validation loss: 1\n",
            "Epoch 61/100: 100% 36/36 [00:12<00:00,  2.92img/s, loss (batch)=0.0102]\n",
            "[2021-11-16 21:34:55,782][root][INFO] - Checkpoint 61 saved !\n",
            "Epoch 62/100: 100% 36/36 [00:08<00:00,  5.32img/s, loss (batch)=0.0131]\n",
            "Validation round: 0batch [00:00, ?batch/s]\u001b[A\n",
            "                                          \u001b[A[2021-11-16 21:35:08,097][root][INFO] - Validation loss: 1\n",
            "Epoch 62/100: 100% 36/36 [00:12<00:00,  2.90img/s, loss (batch)=0.0131]\n",
            "[2021-11-16 21:35:08,315][root][INFO] - Checkpoint 62 saved !\n",
            "Epoch 63/100: 100% 36/36 [00:07<00:00,  5.18img/s, loss (batch)=0.0114]\n",
            "Validation round: 0batch [00:00, ?batch/s]\u001b[A\n",
            "                                          \u001b[A[2021-11-16 21:35:20,525][root][INFO] - Validation loss: 1\n",
            "Epoch 63/100: 100% 36/36 [00:12<00:00,  2.92img/s, loss (batch)=0.0114]\n",
            "[2021-11-16 21:35:20,745][root][INFO] - Checkpoint 63 saved !\n",
            "Epoch 64/100: 100% 36/36 [00:08<00:00,  5.28img/s, loss (batch)=0.0113]\n",
            "Validation round: 0batch [00:00, ?batch/s]\u001b[A\n",
            "                                          \u001b[A[2021-11-16 21:35:33,022][root][INFO] - Validation loss: 1\n",
            "Epoch 64/100: 100% 36/36 [00:12<00:00,  2.90img/s, loss (batch)=0.0113]\n",
            "[2021-11-16 21:35:33,247][root][INFO] - Checkpoint 64 saved !\n",
            "Epoch 65/100: 100% 36/36 [00:07<00:00,  5.32img/s, loss (batch)=0.012]\n",
            "Validation round: 0batch [00:00, ?batch/s]\u001b[A\n",
            "                                          \u001b[A[2021-11-16 21:35:45,475][root][INFO] - Validation loss: 1\n",
            "Epoch 65/100: 100% 36/36 [00:12<00:00,  2.91img/s, loss (batch)=0.012]\n",
            "[2021-11-16 21:35:45,697][root][INFO] - Checkpoint 65 saved !\n",
            "Epoch 66/100: 100% 36/36 [00:07<00:00,  5.29img/s, loss (batch)=0.0116]\n",
            "Validation round: 0batch [00:00, ?batch/s]\u001b[A\n",
            "                                          \u001b[A[2021-11-16 21:35:57,878][root][INFO] - Validation loss: 1\n",
            "Epoch 66/100: 100% 36/36 [00:12<00:00,  2.93img/s, loss (batch)=0.0116]\n",
            "[2021-11-16 21:35:58,101][root][INFO] - Checkpoint 66 saved !\n",
            "Epoch 67/100: 100% 36/36 [00:08<00:00,  5.33img/s, loss (batch)=0.0136]\n",
            "Validation round: 0batch [00:00, ?batch/s]\u001b[A\n",
            "                                          \u001b[A[2021-11-16 21:36:10,386][root][INFO] - Validation loss: 1\n",
            "Epoch 67/100: 100% 36/36 [00:12<00:00,  2.90img/s, loss (batch)=0.0136]\n",
            "[2021-11-16 21:36:10,602][root][INFO] - Checkpoint 67 saved !\n",
            "Epoch 68/100: 100% 36/36 [00:08<00:00,  5.32img/s, loss (batch)=0.0131]\n",
            "Validation round: 0batch [00:00, ?batch/s]\u001b[A\n",
            "                                          \u001b[A[2021-11-16 21:36:22,998][root][INFO] - Validation loss: 1\n",
            "Epoch 68/100: 100% 36/36 [00:12<00:00,  2.88img/s, loss (batch)=0.0131]\n",
            "[2021-11-16 21:36:23,217][root][INFO] - Checkpoint 68 saved !\n",
            "Epoch 69/100: 100% 36/36 [00:07<00:00,  5.26img/s, loss (batch)=0.011]\n",
            "Validation round: 0batch [00:00, ?batch/s]\u001b[A\n",
            "                                          \u001b[A[2021-11-16 21:36:35,366][root][INFO] - Validation loss: 1\n",
            "Epoch 69/100: 100% 36/36 [00:12<00:00,  2.93img/s, loss (batch)=0.011]\n",
            "[2021-11-16 21:36:35,588][root][INFO] - Checkpoint 69 saved !\n",
            "Epoch 70/100: 100% 36/36 [00:08<00:00,  5.25img/s, loss (batch)=0.0109]\n",
            "Validation round: 0batch [00:00, ?batch/s]\u001b[A\n",
            "                                          \u001b[A[2021-11-16 21:36:47,855][root][INFO] - Validation loss: 1\n",
            "Epoch 70/100: 100% 36/36 [00:12<00:00,  2.91img/s, loss (batch)=0.0109]\n",
            "[2021-11-16 21:36:48,068][root][INFO] - Checkpoint 70 saved !\n",
            "Epoch 71/100: 100% 36/36 [00:08<00:00,  5.29img/s, loss (batch)=0.0109]\n",
            "Validation round: 0batch [00:00, ?batch/s]\u001b[A\n",
            "                                          \u001b[A[2021-11-16 21:37:00,376][root][INFO] - Validation loss: 1\n",
            "Epoch 71/100: 100% 36/36 [00:12<00:00,  2.90img/s, loss (batch)=0.0109]\n",
            "[2021-11-16 21:37:00,598][root][INFO] - Checkpoint 71 saved !\n",
            "Epoch 72/100: 100% 36/36 [00:08<00:00,  5.17img/s, loss (batch)=0.0114]\n",
            "Validation round: 0batch [00:00, ?batch/s]\u001b[A\n",
            "                                          \u001b[A[2021-11-16 21:37:12,976][root][INFO] - Validation loss: 1\n",
            "Epoch 72/100: 100% 36/36 [00:12<00:00,  2.88img/s, loss (batch)=0.0114]\n",
            "[2021-11-16 21:37:13,203][root][INFO] - Checkpoint 72 saved !\n",
            "Epoch 73/100: 100% 36/36 [00:08<00:00,  5.22img/s, loss (batch)=0.00973]\n",
            "Validation round: 0batch [00:00, ?batch/s]\u001b[A\n",
            "                                          \u001b[A[2021-11-16 21:37:25,589][root][INFO] - Validation loss: 1\n",
            "Epoch 73/100: 100% 36/36 [00:12<00:00,  2.88img/s, loss (batch)=0.00973]\n",
            "[2021-11-16 21:37:25,821][root][INFO] - Checkpoint 73 saved !\n",
            "Epoch 74/100: 100% 36/36 [00:07<00:00,  5.25img/s, loss (batch)=0.0126]\n",
            "Validation round: 0batch [00:00, ?batch/s]\u001b[A\n",
            "                                          \u001b[A[2021-11-16 21:37:38,030][root][INFO] - Validation loss: 1\n",
            "Epoch 74/100: 100% 36/36 [00:12<00:00,  2.92img/s, loss (batch)=0.0126]\n",
            "[2021-11-16 21:37:38,267][root][INFO] - Checkpoint 74 saved !\n",
            "Epoch 75/100: 100% 36/36 [00:08<00:00,  5.31img/s, loss (batch)=0.0137]\n",
            "Validation round: 0batch [00:00, ?batch/s]\u001b[A\n",
            "                                          \u001b[A[2021-11-16 21:37:50,546][root][INFO] - Validation loss: 1\n",
            "Epoch 75/100: 100% 36/36 [00:12<00:00,  2.90img/s, loss (batch)=0.0137]\n",
            "[2021-11-16 21:37:50,774][root][INFO] - Checkpoint 75 saved !\n",
            "Epoch 76/100: 100% 36/36 [00:08<00:00,  5.26img/s, loss (batch)=0.0099]\n",
            "Validation round: 0batch [00:00, ?batch/s]\u001b[A\n",
            "                                          \u001b[A[2021-11-16 21:38:03,140][root][INFO] - Validation loss: 1\n",
            "Epoch 76/100: 100% 36/36 [00:12<00:00,  2.88img/s, loss (batch)=0.0099]\n",
            "[2021-11-16 21:38:03,350][root][INFO] - Checkpoint 76 saved !\n",
            "Epoch 77/100: 100% 36/36 [00:07<00:00,  5.29img/s, loss (batch)=0.0113]\n",
            "Validation round: 0batch [00:00, ?batch/s]\u001b[A\n",
            "                                          \u001b[A[2021-11-16 21:38:15,562][root][INFO] - Validation loss: 1\n",
            "Epoch 77/100: 100% 36/36 [00:12<00:00,  2.92img/s, loss (batch)=0.0113]\n",
            "[2021-11-16 21:38:15,783][root][INFO] - Checkpoint 77 saved !\n",
            "Epoch 78/100: 100% 36/36 [00:07<00:00,  5.32img/s, loss (batch)=0.0113]\n",
            "Validation round: 0batch [00:00, ?batch/s]\u001b[A\n",
            "                                          \u001b[A[2021-11-16 21:38:27,859][root][INFO] - Validation loss: 1\n",
            "Epoch 78/100: 100% 36/36 [00:12<00:00,  2.95img/s, loss (batch)=0.0113]\n",
            "[2021-11-16 21:38:28,080][root][INFO] - Checkpoint 78 saved !\n",
            "Epoch 79/100: 100% 36/36 [00:07<00:00,  5.30img/s, loss (batch)=0.0104]\n",
            "Validation round: 0batch [00:00, ?batch/s]\u001b[A\n",
            "                                          \u001b[A[2021-11-16 21:38:40,330][root][INFO] - Validation loss: 1\n",
            "Epoch 79/100: 100% 36/36 [00:12<00:00,  2.91img/s, loss (batch)=0.0104]\n",
            "[2021-11-16 21:38:40,557][root][INFO] - Checkpoint 79 saved !\n",
            "Epoch 80/100: 100% 36/36 [00:08<00:00,  5.28img/s, loss (batch)=0.00997]\n",
            "Validation round: 0batch [00:00, ?batch/s]\u001b[A\n",
            "                                          \u001b[A[2021-11-16 21:38:53,014][root][INFO] - Validation loss: 1\n",
            "Epoch 80/100: 100% 36/36 [00:12<00:00,  2.86img/s, loss (batch)=0.00997]\n",
            "[2021-11-16 21:38:53,247][root][INFO] - Checkpoint 80 saved !\n",
            "Epoch 81/100: 100% 36/36 [00:07<00:00,  5.31img/s, loss (batch)=0.0136]\n",
            "Validation round: 0batch [00:00, ?batch/s]\u001b[A\n",
            "                                          \u001b[A[2021-11-16 21:39:05,524][root][INFO] - Validation loss: 1\n",
            "Epoch 81/100: 100% 36/36 [00:12<00:00,  2.90img/s, loss (batch)=0.0136]\n",
            "[2021-11-16 21:39:05,747][root][INFO] - Checkpoint 81 saved !\n",
            "Epoch 82/100: 100% 36/36 [00:08<00:00,  5.32img/s, loss (batch)=0.0124]\n",
            "Validation round: 0batch [00:00, ?batch/s]\u001b[A\n",
            "                                          \u001b[A[2021-11-16 21:39:18,219][root][INFO] - Validation loss: 1\n",
            "Epoch 82/100: 100% 36/36 [00:12<00:00,  2.86img/s, loss (batch)=0.0124]\n",
            "[2021-11-16 21:39:18,458][root][INFO] - Checkpoint 82 saved !\n",
            "Epoch 83/100: 100% 36/36 [00:08<00:00,  5.20img/s, loss (batch)=0.0101]\n",
            "Validation round: 0batch [00:00, ?batch/s]\u001b[A\n",
            "                                          \u001b[A[2021-11-16 21:39:30,788][root][INFO] - Validation loss: 1\n",
            "Epoch 83/100: 100% 36/36 [00:12<00:00,  2.89img/s, loss (batch)=0.0101]\n",
            "[2021-11-16 21:39:31,006][root][INFO] - Checkpoint 83 saved !\n",
            "Epoch 84/100: 100% 36/36 [00:08<00:00,  5.31img/s, loss (batch)=0.0113]\n",
            "Validation round: 0batch [00:00, ?batch/s]\u001b[A\n",
            "                                          \u001b[A[2021-11-16 21:39:43,411][root][INFO] - Validation loss: 1\n",
            "Epoch 84/100: 100% 36/36 [00:12<00:00,  2.87img/s, loss (batch)=0.0113]\n",
            "[2021-11-16 21:39:43,641][root][INFO] - Checkpoint 84 saved !\n",
            "Epoch 85/100: 100% 36/36 [00:08<00:00,  5.23img/s, loss (batch)=0.0104]\n",
            "Validation round: 0batch [00:00, ?batch/s]\u001b[A\n",
            "                                          \u001b[A[2021-11-16 21:39:56,056][root][INFO] - Validation loss: 1\n",
            "Epoch 85/100: 100% 36/36 [00:12<00:00,  2.87img/s, loss (batch)=0.0104]\n",
            "[2021-11-16 21:39:56,299][root][INFO] - Checkpoint 85 saved !\n",
            "Epoch 86/100: 100% 36/36 [00:08<00:00,  5.34img/s, loss (batch)=0.0107]\n",
            "Validation round: 0batch [00:00, ?batch/s]\u001b[A\n",
            "                                          \u001b[A[2021-11-16 21:40:08,594][root][INFO] - Validation loss: 1\n",
            "Epoch 86/100: 100% 36/36 [00:12<00:00,  2.90img/s, loss (batch)=0.0107]\n",
            "[2021-11-16 21:40:08,821][root][INFO] - Checkpoint 86 saved !\n",
            "Epoch 87/100: 100% 36/36 [00:07<00:00,  5.29img/s, loss (batch)=0.0103]\n",
            "Validation round: 0batch [00:00, ?batch/s]\u001b[A\n",
            "                                          \u001b[A[2021-11-16 21:40:21,099][root][INFO] - Validation loss: 1\n",
            "Epoch 87/100: 100% 36/36 [00:12<00:00,  2.90img/s, loss (batch)=0.0103]\n",
            "[2021-11-16 21:40:21,326][root][INFO] - Checkpoint 87 saved !\n",
            "Epoch 88/100: 100% 36/36 [00:08<00:00,  5.28img/s, loss (batch)=0.0112]\n",
            "Validation round: 0batch [00:00, ?batch/s]\u001b[A\n",
            "                                          \u001b[A[2021-11-16 21:40:33,824][root][INFO] - Validation loss: 1\n",
            "Epoch 88/100: 100% 36/36 [00:12<00:00,  2.85img/s, loss (batch)=0.0112]\n",
            "[2021-11-16 21:40:34,052][root][INFO] - Checkpoint 88 saved !\n",
            "Epoch 89/100: 100% 36/36 [00:08<00:00,  5.30img/s, loss (batch)=0.0111]\n",
            "Validation round: 0batch [00:00, ?batch/s]\u001b[A\n",
            "                                          \u001b[A[2021-11-16 21:40:46,439][root][INFO] - Validation loss: 1\n",
            "Epoch 89/100: 100% 36/36 [00:12<00:00,  2.88img/s, loss (batch)=0.0111]\n",
            "[2021-11-16 21:40:46,661][root][INFO] - Checkpoint 89 saved !\n",
            "Epoch 90/100: 100% 36/36 [00:07<00:00,  5.28img/s, loss (batch)=0.0108]\n",
            "Validation round: 0batch [00:00, ?batch/s]\u001b[A\n",
            "                                          \u001b[A[2021-11-16 21:40:58,962][root][INFO] - Validation loss: 1\n",
            "Epoch 90/100: 100% 36/36 [00:12<00:00,  2.90img/s, loss (batch)=0.0108]\n",
            "[2021-11-16 21:40:59,181][root][INFO] - Checkpoint 90 saved !\n",
            "Epoch 91/100: 100% 36/36 [00:08<00:00,  5.24img/s, loss (batch)=0.0117]\n",
            "Validation round: 0batch [00:00, ?batch/s]\u001b[A\n",
            "                                          \u001b[A[2021-11-16 21:41:11,423][root][INFO] - Validation loss: 1\n",
            "Epoch 91/100: 100% 36/36 [00:12<00:00,  2.91img/s, loss (batch)=0.0117]\n",
            "[2021-11-16 21:41:11,652][root][INFO] - Checkpoint 91 saved !\n",
            "Epoch 92/100: 100% 36/36 [00:07<00:00,  5.28img/s, loss (batch)=0.0109]\n",
            "Validation round: 0batch [00:00, ?batch/s]\u001b[A\n",
            "                                          \u001b[A[2021-11-16 21:41:23,842][root][INFO] - Validation loss: 1\n",
            "Epoch 92/100: 100% 36/36 [00:12<00:00,  2.92img/s, loss (batch)=0.0109]\n",
            "[2021-11-16 21:41:24,077][root][INFO] - Checkpoint 92 saved !\n",
            "Epoch 93/100: 100% 36/36 [00:07<00:00,  5.25img/s, loss (batch)=0.0125]\n",
            "Validation round: 0batch [00:00, ?batch/s]\u001b[A\n",
            "                                          \u001b[A[2021-11-16 21:41:36,350][root][INFO] - Validation loss: 1\n",
            "Epoch 93/100: 100% 36/36 [00:12<00:00,  2.90img/s, loss (batch)=0.0125]\n",
            "[2021-11-16 21:41:36,577][root][INFO] - Checkpoint 93 saved !\n",
            "Epoch 94/100: 100% 36/36 [00:08<00:00,  5.30img/s, loss (batch)=0.0125]\n",
            "Validation round: 0batch [00:00, ?batch/s]\u001b[A\n",
            "                                          \u001b[A[2021-11-16 21:41:48,971][root][INFO] - Validation loss: 1\n",
            "Epoch 94/100: 100% 36/36 [00:12<00:00,  2.88img/s, loss (batch)=0.0125]\n",
            "[2021-11-16 21:41:49,190][root][INFO] - Checkpoint 94 saved !\n",
            "Epoch 95/100: 100% 36/36 [00:07<00:00,  5.29img/s, loss (batch)=0.0104]\n",
            "Validation round: 0batch [00:00, ?batch/s]\u001b[A\n",
            "                                          \u001b[A[2021-11-16 21:42:01,406][root][INFO] - Validation loss: 1\n",
            "Epoch 95/100: 100% 36/36 [00:12<00:00,  2.92img/s, loss (batch)=0.0104]\n",
            "[2021-11-16 21:42:01,629][root][INFO] - Checkpoint 95 saved !\n",
            "Epoch 96/100: 100% 36/36 [00:08<00:00,  5.29img/s, loss (batch)=0.0136]\n",
            "Validation round: 0batch [00:00, ?batch/s]\u001b[A\n",
            "                                          \u001b[A[2021-11-16 21:42:13,932][root][INFO] - Validation loss: 1\n",
            "Epoch 96/100: 100% 36/36 [00:12<00:00,  2.90img/s, loss (batch)=0.0136]\n",
            "[2021-11-16 21:42:14,156][root][INFO] - Checkpoint 96 saved !\n",
            "Epoch 97/100: 100% 36/36 [00:07<00:00,  5.31img/s, loss (batch)=0.00905]\n",
            "Validation round: 0batch [00:00, ?batch/s]\u001b[A\n",
            "                                          \u001b[A[2021-11-16 21:42:26,461][root][INFO] - Validation loss: 1\n",
            "Epoch 97/100: 100% 36/36 [00:12<00:00,  2.90img/s, loss (batch)=0.00905]\n",
            "[2021-11-16 21:42:26,689][root][INFO] - Checkpoint 97 saved !\n",
            "Epoch 98/100: 100% 36/36 [00:08<00:00,  5.28img/s, loss (batch)=0.0143]\n",
            "Validation round: 0batch [00:00, ?batch/s]\u001b[A\n",
            "                                          \u001b[A[2021-11-16 21:42:39,062][root][INFO] - Validation loss: 1\n",
            "Epoch 98/100: 100% 36/36 [00:12<00:00,  2.88img/s, loss (batch)=0.0143]\n",
            "[2021-11-16 21:42:39,292][root][INFO] - Checkpoint 98 saved !\n",
            "Epoch 99/100: 100% 36/36 [00:08<00:00,  5.26img/s, loss (batch)=0.0102]\n",
            "Validation round: 0batch [00:00, ?batch/s]\u001b[A\n",
            "                                          \u001b[A[2021-11-16 21:42:51,564][root][INFO] - Validation loss: 1\n",
            "Epoch 99/100: 100% 36/36 [00:12<00:00,  2.90img/s, loss (batch)=0.0102]\n",
            "[2021-11-16 21:42:51,787][root][INFO] - Checkpoint 99 saved !\n",
            "Epoch 100/100: 100% 36/36 [00:08<00:00,  5.27img/s, loss (batch)=0.0127]\n",
            "Validation round: 0batch [00:00, ?batch/s]\u001b[A\n",
            "                                          \u001b[A[2021-11-16 21:43:04,084][root][INFO] - Validation loss: 1\n",
            "Epoch 100/100: 100% 36/36 [00:12<00:00,  2.90img/s, loss (batch)=0.0127]\n",
            "[2021-11-16 21:43:04,323][root][INFO] - Checkpoint 100 saved !\n"
          ]
        }
      ]
    },
    {
      "cell_type": "code",
      "metadata": {
        "colab": {
          "base_uri": "https://localhost:8080/"
        },
        "id": "ecthC6HgMFjS",
        "outputId": "15092ba4-5d13-401d-bca3-596a4562207d"
      },
      "source": [
        "!ls checkpoints/"
      ],
      "execution_count": null,
      "outputs": [
        {
          "output_type": "stream",
          "name": "stdout",
          "text": [
            "CP_epoch100.pth  CP_epoch28.pth  CP_epoch46.pth  CP_epoch64.pth  CP_epoch82.pth\n",
            "CP_epoch10.pth\t CP_epoch29.pth  CP_epoch47.pth  CP_epoch65.pth  CP_epoch83.pth\n",
            "CP_epoch11.pth\t CP_epoch2.pth\t CP_epoch48.pth  CP_epoch66.pth  CP_epoch84.pth\n",
            "CP_epoch12.pth\t CP_epoch30.pth  CP_epoch49.pth  CP_epoch67.pth  CP_epoch85.pth\n",
            "CP_epoch13.pth\t CP_epoch31.pth  CP_epoch4.pth\t CP_epoch68.pth  CP_epoch86.pth\n",
            "CP_epoch14.pth\t CP_epoch32.pth  CP_epoch50.pth  CP_epoch69.pth  CP_epoch87.pth\n",
            "CP_epoch15.pth\t CP_epoch33.pth  CP_epoch51.pth  CP_epoch6.pth\t CP_epoch88.pth\n",
            "CP_epoch16.pth\t CP_epoch34.pth  CP_epoch52.pth  CP_epoch70.pth  CP_epoch89.pth\n",
            "CP_epoch17.pth\t CP_epoch35.pth  CP_epoch53.pth  CP_epoch71.pth  CP_epoch8.pth\n",
            "CP_epoch18.pth\t CP_epoch36.pth  CP_epoch54.pth  CP_epoch72.pth  CP_epoch90.pth\n",
            "CP_epoch19.pth\t CP_epoch37.pth  CP_epoch55.pth  CP_epoch73.pth  CP_epoch91.pth\n",
            "CP_epoch1.pth\t CP_epoch38.pth  CP_epoch56.pth  CP_epoch74.pth  CP_epoch92.pth\n",
            "CP_epoch20.pth\t CP_epoch39.pth  CP_epoch57.pth  CP_epoch75.pth  CP_epoch93.pth\n",
            "CP_epoch21.pth\t CP_epoch3.pth\t CP_epoch58.pth  CP_epoch76.pth  CP_epoch94.pth\n",
            "CP_epoch22.pth\t CP_epoch40.pth  CP_epoch59.pth  CP_epoch77.pth  CP_epoch95.pth\n",
            "CP_epoch23.pth\t CP_epoch41.pth  CP_epoch5.pth\t CP_epoch78.pth  CP_epoch96.pth\n",
            "CP_epoch24.pth\t CP_epoch42.pth  CP_epoch60.pth  CP_epoch79.pth  CP_epoch97.pth\n",
            "CP_epoch25.pth\t CP_epoch43.pth  CP_epoch61.pth  CP_epoch7.pth\t CP_epoch98.pth\n",
            "CP_epoch26.pth\t CP_epoch44.pth  CP_epoch62.pth  CP_epoch80.pth  CP_epoch99.pth\n",
            "CP_epoch27.pth\t CP_epoch45.pth  CP_epoch63.pth  CP_epoch81.pth  CP_epoch9.pth\n"
          ]
        }
      ]
    },
    {
      "cell_type": "code",
      "metadata": {
        "id": "OTIZL_2rfZoo"
      },
      "source": [
        "import numpy as np\n",
        "\n",
        "mpm=np.load('/content/gdrive/MyDrive/Codes/Python/MOT/MPM/dataset/train_mpms/sequence_NIHT3_original/001/0000.npy')"
      ],
      "execution_count": null,
      "outputs": []
    },
    {
      "cell_type": "code",
      "metadata": {
        "colab": {
          "base_uri": "https://localhost:8080/"
        },
        "id": "7GZKjqYQjbqU",
        "outputId": "f81e0193-77f7-4225-f3e9-71863b5ce789"
      },
      "source": [
        "mpm.shape"
      ],
      "execution_count": null,
      "outputs": [
        {
          "output_type": "execute_result",
          "data": {
            "text/plain": [
              "(1022, 1024, 3)"
            ]
          },
          "metadata": {},
          "execution_count": 30
        }
      ]
    },
    {
      "cell_type": "code",
      "metadata": {
        "colab": {
          "base_uri": "https://localhost:8080/",
          "height": 302
        },
        "id": "gU8pZjMOjcpG",
        "outputId": "3a8171d8-6d2d-4857-b2dd-c518cbb007f9"
      },
      "source": [
        "import matplotlib.pyplot as plt\n",
        "plt.imshow(mpm)"
      ],
      "execution_count": null,
      "outputs": [
        {
          "output_type": "stream",
          "name": "stderr",
          "text": [
            "Clipping input data to the valid range for imshow with RGB data ([0..1] for floats or [0..255] for integers).\n"
          ]
        },
        {
          "output_type": "execute_result",
          "data": {
            "text/plain": [
              "<matplotlib.image.AxesImage at 0x7faf71688ed0>"
            ]
          },
          "metadata": {},
          "execution_count": 31
        },
        {
          "output_type": "display_data",
          "data": {
            "image/png": "[encoded data removed]",
            "text/plain": [
              "<Figure size 432x288 with 1 Axes>"
            ]
          },
          "metadata": {
            "needs_background": "light"
          }
        }
      ]
    },
    {
      "cell_type": "code",
      "metadata": {
        "colab": {
          "base_uri": "https://localhost:8080/",
          "height": 286
        },
        "id": "dc7x6eAsLRL8",
        "outputId": "93041923-fc49-4122-ea20-e943e1fa2a62"
      },
      "source": [
        "import cv2\n",
        "\n",
        "img = cv2.imread('/content/gdrive/MyDrive/Codes/Python/MOT/MPM/dataset/train_imgs/sequence_NIHT3_original/0000.tif', 0)\n",
        "plt.imshow(img)"
      ],
      "execution_count": null,
      "outputs": [
        {
          "output_type": "execute_result",
          "data": {
            "text/plain": [
              "<matplotlib.image.AxesImage at 0x7faf67eacb10>"
            ]
          },
          "metadata": {},
          "execution_count": 32
        },
        {
          "output_type": "display_data",
          "data": {
            "image/png": "[encoded data removed]",
            "text/plain": [
              "<Figure size 432x288 with 1 Axes>"
            ]
          },
          "metadata": {
            "needs_background": "light"
          }
        }
      ]
    },
    {
      "cell_type": "markdown",
      "metadata": {
        "id": "2VXNw9bowNwg"
      },
      "source": [
        "##Track the Cells with Pretrained MPM Model"
      ]
    },
    {
      "cell_type": "code",
      "metadata": {
        "id": "VbEN7nRXTbwd",
        "colab": {
          "base_uri": "https://localhost:8080/"
        },
        "outputId": "22f06567-9329-466f-fdf8-f4f44058be54"
      },
      "source": [
        "!python /content/gdrive/MyDrive/Codes/Python/MOT/MPM/mpm_tracker.py"
      ],
      "execution_count": null,
      "outputs": [
        {
          "output_type": "stream",
          "name": "stdout",
          "text": [
            "-------0 - 1-------\n",
            "-------1 - 2-------\n",
            "# of associated cell: 19\n",
            "appeared cell: 9\n",
            "division cell: 0\n",
            "not associated cell: 8\n",
            "-------2 - 3-------\n",
            "# of associated cell: 22\n",
            "appeared cell: 5\n",
            "division cell: 0\n",
            "not associated cell: 6\n",
            "-------3 - 4-------\n",
            "# of associated cell: 11\n",
            "appeared cell: 3\n",
            "division cell: 0\n",
            "not associated cell: 16\n",
            "-------4 - 5-------\n",
            "# of associated cell: 11\n",
            "appeared cell: 19\n",
            "division cell: 0\n",
            "not associated cell: 3\n",
            "-------5 - 6-------\n",
            "# of associated cell: 17\n",
            "appeared cell: 8\n",
            "division cell: 0\n",
            "not associated cell: 13\n",
            "-------6 - 7-------\n",
            "# of associated cell: 20\n",
            "appeared cell: 7\n",
            "division cell: 2\n",
            "not associated cell: 7\n",
            "-------7 - 8-------\n",
            "# of associated cell: 20\n",
            "appeared cell: 8\n",
            "division cell: 0\n",
            "not associated cell: 7\n",
            "-------8 - 9-------\n",
            "# of associated cell: 15\n",
            "appeared cell: 3\n",
            "division cell: 0\n",
            "not associated cell: 13\n",
            "-------9 - 10-------\n",
            "# of associated cell: 11\n",
            "appeared cell: 21\n",
            "division cell: 0\n",
            "not associated cell: 7\n",
            "-------10 - 11-------\n",
            "# of associated cell: 17\n",
            "appeared cell: 10\n",
            "division cell: 0\n",
            "not associated cell: 15\n",
            "-------11 - 12-------\n",
            "# of associated cell: 18\n",
            "appeared cell: 15\n",
            "division cell: 4\n",
            "not associated cell: 11\n",
            "-------12 - 13-------\n",
            "# of associated cell: 23\n",
            "appeared cell: 10\n",
            "division cell: 0\n",
            "not associated cell: 10\n",
            "-------13 - 14-------\n",
            "# of associated cell: 11\n",
            "appeared cell: 4\n",
            "division cell: 0\n",
            "not associated cell: 22\n",
            "-------14 - 15-------\n",
            "# of associated cell: 6\n",
            "appeared cell: 22\n",
            "division cell: 0\n",
            "not associated cell: 9\n",
            "-------15 - 16-------\n",
            "# of associated cell: 19\n",
            "appeared cell: 8\n",
            "division cell: 2\n",
            "not associated cell: 10\n",
            "-------16 - 17-------\n",
            "# of associated cell: 17\n",
            "appeared cell: 14\n",
            "division cell: 2\n",
            "not associated cell: 11\n",
            "-------17 - 18-------\n",
            "# of associated cell: 20\n",
            "appeared cell: 17\n",
            "division cell: 2\n",
            "not associated cell: 12\n",
            "-------18 - 19-------\n",
            "# of associated cell: 8\n",
            "appeared cell: 7\n",
            "division cell: 0\n",
            "not associated cell: 29\n",
            "-------19 - 20-------\n",
            "# of associated cell: 7\n",
            "appeared cell: 17\n",
            "division cell: 0\n",
            "not associated cell: 8\n",
            "-------20 - 21-------\n",
            "# of associated cell: 20\n",
            "appeared cell: 16\n",
            "division cell: 4\n",
            "not associated cell: 6\n",
            "-------21 - 22-------\n",
            "# of associated cell: 22\n",
            "appeared cell: 13\n",
            "division cell: 4\n",
            "not associated cell: 17\n",
            "-------22 - 23-------\n",
            "# of associated cell: 9\n",
            "appeared cell: 16\n",
            "division cell: 4\n",
            "not associated cell: 28\n",
            "-------23 - 24-------\n",
            "# of associated cell: 15\n",
            "appeared cell: 18\n",
            "division cell: 4\n",
            "not associated cell: 12\n",
            "-------24 - 25-------\n",
            "# of associated cell: 24\n",
            "appeared cell: 13\n",
            "division cell: 0\n",
            "not associated cell: 9\n",
            "-------25 - 26-------\n",
            "# of associated cell: 16\n",
            "appeared cell: 15\n",
            "division cell: 0\n",
            "not associated cell: 21\n",
            "-------26 - 27-------\n",
            "# of associated cell: 19\n",
            "appeared cell: 10\n",
            "division cell: 4\n",
            "not associated cell: 14\n",
            "-------27 - 28-------\n",
            "# of associated cell: 11\n",
            "appeared cell: 9\n",
            "division cell: 2\n",
            "not associated cell: 19\n",
            "-------28 - 29-------\n",
            "# of associated cell: 15\n",
            "appeared cell: 24\n",
            "division cell: 2\n",
            "not associated cell: 6\n",
            "-------29 - 30-------\n",
            "# of associated cell: 22\n",
            "appeared cell: 12\n",
            "division cell: 0\n",
            "not associated cell: 17\n",
            "-------30 - 31-------\n",
            "# of associated cell: 20\n",
            "appeared cell: 11\n",
            "division cell: 2\n",
            "not associated cell: 16\n",
            "-------31 - 32-------\n",
            "# of associated cell: 18\n",
            "appeared cell: 15\n",
            "division cell: 0\n",
            "not associated cell: 13\n",
            "-------32 - 33-------\n",
            "# of associated cell: 15\n",
            "appeared cell: 6\n",
            "division cell: 4\n",
            "not associated cell: 21\n",
            "-------33 - 34-------\n",
            "# of associated cell: 17\n",
            "appeared cell: 34\n",
            "division cell: 2\n",
            "not associated cell: 7\n",
            "-------34 - 35-------\n",
            "# of associated cell: 33\n",
            "appeared cell: 18\n",
            "division cell: 6\n",
            "not associated cell: 22\n",
            "-------35 - 36-------\n",
            "# of associated cell: 30\n",
            "appeared cell: 14\n",
            "division cell: 4\n",
            "not associated cell: 23\n"
          ]
        }
      ]
    },
    {
      "cell_type": "code",
      "metadata": {
        "colab": {
          "base_uri": "https://localhost:8080/"
        },
        "id": "6YozAHVp_frx",
        "outputId": "d4c7c913-3afa-4ccf-a18f-3ef0c869a988"
      },
      "source": [
        "!ls output/track_log/"
      ],
      "execution_count": null,
      "outputs": [
        {
          "output_type": "stream",
          "name": "stdout",
          "text": [
            "end_trajectory.num_frame  new_log.num_frame  tracking.states\n",
            "mitosis_event.num_frame   tab.num_frame      tracking.tree\n"
          ]
        }
      ]
    },
    {
      "cell_type": "code",
      "metadata": {
        "id": "ZtsvEcaJRSn1"
      },
      "source": [
        "!python /content/gdrive/MyDrive/Codes/Python/MOT/MPM/utils/visualize.py"
      ],
      "execution_count": null,
      "outputs": []
    },
    {
      "cell_type": "code",
      "metadata": {
        "id": "WoLnJOenUYeT"
      },
      "source": [
        "from google.colab import files\n",
        "\n",
        "files.download('/content/checkpoints/CP_epoch100.pth') "
      ],
      "execution_count": null,
      "outputs": []
    },
    {
      "cell_type": "markdown",
      "metadata": {
        "id": "ajJhPhfTUVY3"
      },
      "source": [
        "##Save Tracked Centroids"
      ]
    },
    {
      "cell_type": "code",
      "metadata": {
        "id": "xgG0cXjaDvku"
      },
      "source": [
        "import numpy as np\n",
        "import pandas as pd\n",
        "\n",
        "track_arr = np.loadtxt('/content/output/track_log/tracking.states', dtype='int')\n",
        "df_tracked = pd.DataFrame(track_arr, columns = ['frame','id','x','y'])"
      ],
      "execution_count": null,
      "outputs": []
    },
    {
      "cell_type": "code",
      "metadata": {
        "colab": {
          "base_uri": "https://localhost:8080/"
        },
        "id": "vDxjiIvzMXp-",
        "outputId": "70faaabf-20f8-48f8-de8c-119b21e49cf4"
      },
      "source": [
        "frames = df_tracked['frame'].unique()\n",
        "all_centroids = []\n",
        "for frame in frames:\n",
        "    centroids = []\n",
        "    xs = df_tracked[df_tracked['frame']==frame]['x'].values\n",
        "    ys = df_tracked[df_tracked['frame']==frame]['y'].values\n",
        "    for x, y in zip(xs, ys):\n",
        "        centroids.append(np.array([x, y]))\n",
        "    all_centroids.append(np.array(centroids))\n",
        "\n",
        "all_centroids = np.array(all_centroids)\n",
        "all_centroids.shape"
      ],
      "execution_count": null,
      "outputs": [
        {
          "output_type": "execute_result",
          "data": {
            "text/plain": [
              "(37,)"
            ]
          },
          "metadata": {},
          "execution_count": 42
        }
      ]
    },
    {
      "cell_type": "code",
      "metadata": {
        "id": "g6AP2I2BUSfz"
      },
      "source": [
        "np.save('mpm_tracked_NIH3T.npy', all_centroids)"
      ],
      "execution_count": null,
      "outputs": []
    },
    {
      "cell_type": "code",
      "metadata": {
        "id": "kyxQ-QbLSuq-"
      },
      "source": [],
      "execution_count": null,
      "outputs": []
    }
  ]
}